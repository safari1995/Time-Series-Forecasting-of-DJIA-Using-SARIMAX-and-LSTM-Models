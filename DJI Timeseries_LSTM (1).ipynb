{
 "cells": [
  {
   "cell_type": "code",
   "execution_count": 1,
   "id": "b856a454",
   "metadata": {},
   "outputs": [],
   "source": [
    "import pandas as pd\n",
    "import numpy as np\n",
    "import matplotlib.pyplot as plt\n",
    "from tensorflow.keras.models import Sequential\n",
    "from tensorflow.keras.layers import LSTM, Dense, Dropout, BatchNormalization\n",
    "from tensorflow.keras.utils import timeseries_dataset_from_array , split_dataset\n",
    "from tensorflow.keras.metrics import MeanAbsolutePercentageError , R2Score\n",
    "from tensorflow.random import set_seed"
   ]
  },
  {
   "cell_type": "code",
   "execution_count": 2,
   "id": "4d10df2f",
   "metadata": {},
   "outputs": [
    {
     "data": {
      "text/html": [
       "<div>\n",
       "<style scoped>\n",
       "    .dataframe tbody tr th:only-of-type {\n",
       "        vertical-align: middle;\n",
       "    }\n",
       "\n",
       "    .dataframe tbody tr th {\n",
       "        vertical-align: top;\n",
       "    }\n",
       "\n",
       "    .dataframe thead th {\n",
       "        text-align: right;\n",
       "    }\n",
       "</style>\n",
       "<table border=\"1\" class=\"dataframe\">\n",
       "  <thead>\n",
       "    <tr style=\"text-align: right;\">\n",
       "      <th></th>\n",
       "      <th>DJIA</th>\n",
       "    </tr>\n",
       "    <tr>\n",
       "      <th>Date</th>\n",
       "      <th></th>\n",
       "    </tr>\n",
       "  </thead>\n",
       "  <tbody>\n",
       "    <tr>\n",
       "      <th>1885-02-16</th>\n",
       "      <td>3.431487</td>\n",
       "    </tr>\n",
       "    <tr>\n",
       "      <th>1885-02-17</th>\n",
       "      <td>3.444784</td>\n",
       "    </tr>\n",
       "    <tr>\n",
       "      <th>1885-02-18</th>\n",
       "      <td>3.449175</td>\n",
       "    </tr>\n",
       "    <tr>\n",
       "      <th>1885-02-19</th>\n",
       "      <td>3.455575</td>\n",
       "    </tr>\n",
       "    <tr>\n",
       "      <th>1885-02-20</th>\n",
       "      <td>3.447610</td>\n",
       "    </tr>\n",
       "    <tr>\n",
       "      <th>...</th>\n",
       "      <td>...</td>\n",
       "    </tr>\n",
       "    <tr>\n",
       "      <th>2024-02-22</th>\n",
       "      <td>10.573087</td>\n",
       "    </tr>\n",
       "    <tr>\n",
       "      <th>2024-02-23</th>\n",
       "      <td>10.574684</td>\n",
       "    </tr>\n",
       "    <tr>\n",
       "      <th>2024-02-26</th>\n",
       "      <td>10.573090</td>\n",
       "    </tr>\n",
       "    <tr>\n",
       "      <th>2024-02-27</th>\n",
       "      <td>10.570609</td>\n",
       "    </tr>\n",
       "    <tr>\n",
       "      <th>2024-02-28</th>\n",
       "      <td>10.570009</td>\n",
       "    </tr>\n",
       "  </tbody>\n",
       "</table>\n",
       "<p>37962 rows × 1 columns</p>\n",
       "</div>"
      ],
      "text/plain": [
       "                 DJIA\n",
       "Date                 \n",
       "1885-02-16   3.431487\n",
       "1885-02-17   3.444784\n",
       "1885-02-18   3.449175\n",
       "1885-02-19   3.455575\n",
       "1885-02-20   3.447610\n",
       "...               ...\n",
       "2024-02-22  10.573087\n",
       "2024-02-23  10.574684\n",
       "2024-02-26  10.573090\n",
       "2024-02-27  10.570609\n",
       "2024-02-28  10.570009\n",
       "\n",
       "[37962 rows x 1 columns]"
      ]
     },
     "execution_count": 2,
     "metadata": {},
     "output_type": "execute_result"
    }
   ],
   "source": [
    "df = pd.read_csv('DJA.csv')\n",
    "df['Date'] = pd.to_datetime(df['Date'])\n",
    "df.set_index('Date' , inplace=True)\n",
    "df['DJIA'] = np.log(df['DJIA'])\n",
    "df"
   ]
  },
  {
   "cell_type": "code",
   "execution_count": 3,
   "id": "e2416356",
   "metadata": {},
   "outputs": [
    {
     "data": {
      "text/plain": [
       "DJIA    0\n",
       "dtype: int64"
      ]
     },
     "execution_count": 3,
     "metadata": {},
     "output_type": "execute_result"
    }
   ],
   "source": [
    "df.isnull().sum()"
   ]
  },
  {
   "cell_type": "code",
   "execution_count": 4,
   "id": "45f5ada5",
   "metadata": {},
   "outputs": [],
   "source": [
    "def split_for_timeseries(data , seq , train , val ):\n",
    "    \n",
    "    a = int(len(data)*train)\n",
    "    b = int(len(data)*val) + a\n",
    "    \n",
    "    \n",
    "    X_train = np.array(data[:a])\n",
    "    y_train = np.array(data[seq:a])\n",
    "    X_val = np.array(data[a-seq:b])\n",
    "    y_val = np.array(data[a:b])\n",
    "    X_test = np.array(data[b-seq:])\n",
    "    y_test = np.array(data[b:])\n",
    "    \n",
    "    \n",
    "    return X_train , X_val , X_test , y_train , y_val , y_test"
   ]
  },
  {
   "cell_type": "code",
   "execution_count": 5,
   "id": "e8c548c1",
   "metadata": {},
   "outputs": [],
   "source": [
    "X_train , X_val  , y_train , y_val  = split_for_timeseries(df , 30 , 0.999 , 0.001)"
   ]
  },
  {
   "cell_type": "code",
   "execution_count": 16,
   "id": "2420e1d2",
   "metadata": {},
   "outputs": [],
   "source": [
    "train = timeseries_dataset_from_array(X_train,y_train, sequence_length=30 , shuffle=False , batch_size=128  )\n",
    "val =  timeseries_dataset_from_array(X_val,y_val, sequence_length=30 , shuffle=False , batch_size=128  )\n",
    "#test =  timeseries_dataset_from_array(X_test,y_test, sequence_length=30 , shuffle=False , batch_size=128  )"
   ]
  },
  {
   "cell_type": "code",
   "execution_count": 17,
   "id": "88651cd3",
   "metadata": {},
   "outputs": [],
   "source": [
    "model = Sequential()\n",
    "model.add(LSTM(64))\n",
    "model.add(Dense(32, activation='relu'))\n",
    "model.add(Dense(16, activation='relu'))\n",
    "model.add(Dense(1))"
   ]
  },
  {
   "cell_type": "code",
   "execution_count": 18,
   "id": "7a5cc82b",
   "metadata": {},
   "outputs": [],
   "source": [
    "model.compile(loss='mean_absolute_error', optimizer='Adam' ,  metrics=[MeanAbsolutePercentageError()])"
   ]
  },
  {
   "cell_type": "code",
   "execution_count": 27,
   "id": "69129d3a",
   "metadata": {
    "scrolled": false
   },
   "outputs": [
    {
     "name": "stdout",
     "output_type": "stream",
     "text": [
      "Epoch 1/16\n",
      "296/296 [==============================] - 12s 41ms/step - loss: 0.0245 - mean_absolute_percentage_error: 0.4581 - val_loss: 0.0338 - val_mean_absolute_percentage_error: 0.3219\n",
      "Epoch 2/16\n",
      "296/296 [==============================] - 13s 42ms/step - loss: 0.0242 - mean_absolute_percentage_error: 0.4425 - val_loss: 0.0250 - val_mean_absolute_percentage_error: 0.2383\n",
      "Epoch 3/16\n",
      "296/296 [==============================] - 12s 41ms/step - loss: 0.0252 - mean_absolute_percentage_error: 0.4550 - val_loss: 0.0232 - val_mean_absolute_percentage_error: 0.2219\n",
      "Epoch 4/16\n",
      "296/296 [==============================] - 12s 41ms/step - loss: 0.0253 - mean_absolute_percentage_error: 0.4531 - val_loss: 0.0472 - val_mean_absolute_percentage_error: 0.4502\n",
      "Epoch 5/16\n",
      "296/296 [==============================] - 12s 41ms/step - loss: 0.0219 - mean_absolute_percentage_error: 0.3974 - val_loss: 0.0132 - val_mean_absolute_percentage_error: 0.1256\n",
      "Epoch 6/16\n",
      "296/296 [==============================] - 13s 42ms/step - loss: 0.0272 - mean_absolute_percentage_error: 0.4830 - val_loss: 0.0116 - val_mean_absolute_percentage_error: 0.1102\n",
      "Epoch 7/16\n",
      "296/296 [==============================] - 11s 38ms/step - loss: 0.0229 - mean_absolute_percentage_error: 0.4325 - val_loss: 0.0155 - val_mean_absolute_percentage_error: 0.1473\n",
      "Epoch 8/16\n",
      "296/296 [==============================] - 12s 42ms/step - loss: 0.0244 - mean_absolute_percentage_error: 0.4257 - val_loss: 0.0188 - val_mean_absolute_percentage_error: 0.1793\n",
      "Epoch 9/16\n",
      "296/296 [==============================] - 14s 48ms/step - loss: 0.0244 - mean_absolute_percentage_error: 0.4373 - val_loss: 0.0171 - val_mean_absolute_percentage_error: 0.1632\n",
      "Epoch 10/16\n",
      "296/296 [==============================] - 11s 38ms/step - loss: 0.0274 - mean_absolute_percentage_error: 0.4583 - val_loss: 0.0140 - val_mean_absolute_percentage_error: 0.1331\n",
      "Epoch 11/16\n",
      "296/296 [==============================] - 11s 37ms/step - loss: 0.0230 - mean_absolute_percentage_error: 0.3915 - val_loss: 0.0159 - val_mean_absolute_percentage_error: 0.1516\n",
      "Epoch 12/16\n",
      "296/296 [==============================] - 12s 40ms/step - loss: 0.0229 - mean_absolute_percentage_error: 0.3858 - val_loss: 0.0147 - val_mean_absolute_percentage_error: 0.1401\n",
      "Epoch 13/16\n",
      "296/296 [==============================] - 12s 39ms/step - loss: 0.0255 - mean_absolute_percentage_error: 0.4297 - val_loss: 0.0492 - val_mean_absolute_percentage_error: 0.4701\n",
      "Epoch 14/16\n",
      "296/296 [==============================] - 13s 42ms/step - loss: 0.0239 - mean_absolute_percentage_error: 0.3965 - val_loss: 0.0160 - val_mean_absolute_percentage_error: 0.1526\n",
      "Epoch 15/16\n",
      "296/296 [==============================] - 12s 41ms/step - loss: 0.0245 - mean_absolute_percentage_error: 0.4087 - val_loss: 0.0268 - val_mean_absolute_percentage_error: 0.2560\n",
      "Epoch 16/16\n",
      "296/296 [==============================] - 12s 42ms/step - loss: 0.0189 - mean_absolute_percentage_error: 0.3202 - val_loss: 0.0171 - val_mean_absolute_percentage_error: 0.1638\n"
     ]
    }
   ],
   "source": [
    "history = model.fit(train, batch_size=128, epochs=16 ,  validation_data=(val))"
   ]
  },
  {
   "cell_type": "code",
   "execution_count": 28,
   "id": "8e7f405e",
   "metadata": {},
   "outputs": [
    {
     "name": "stdout",
     "output_type": "stream",
     "text": [
      "1/1 [==============================] - 0s 109ms/step\n"
     ]
    }
   ],
   "source": [
    "y_pred = model.predict(test)"
   ]
  },
  {
   "cell_type": "code",
   "execution_count": 29,
   "id": "af0dda6c",
   "metadata": {},
   "outputs": [
    {
     "data": {
      "text/plain": [
       "[<matplotlib.lines.Line2D at 0x1d03eddc1c0>]"
      ]
     },
     "execution_count": 29,
     "metadata": {},
     "output_type": "execute_result"
    },
    {
     "data": {
      "image/png": "[encoded data removed]",
      "text/plain": [
       "<Figure size 432x288 with 1 Axes>"
      ]
     },
     "metadata": {
      "needs_background": "light"
     },
     "output_type": "display_data"
    }
   ],
   "source": [
    "plt.plot(y_test )\n",
    "plt.plot(y_pred)"
   ]
  },
  {
   "cell_type": "code",
   "execution_count": 30,
   "id": "fa3a17a5",
   "metadata": {},
   "outputs": [
    {
     "name": "stdout",
     "output_type": "stream",
     "text": [
      "MAPE: 0.0006834156944980993 R2: 0.644356403314535\n"
     ]
    }
   ],
   "source": [
    "from sklearn.metrics import mean_absolute_percentage_error , r2_score\n",
    "print('MAPE:', mean_absolute_percentage_error(y_test,y_pred) ,'R2:', r2_score(y_test,y_pred ) )"
   ]
  },
  {
   "cell_type": "code",
   "execution_count": 31,
   "id": "85c12fd0",
   "metadata": {
    "scrolled": true
   },
   "outputs": [
    {
     "name": "stdout",
     "output_type": "stream",
     "text": [
      "1/1 [==============================] - 0s 359ms/step\n",
      "1/1 [==============================] - 0s 31ms/step\n",
      "1/1 [==============================] - 0s 47ms/step\n",
      "1/1 [==============================] - 0s 47ms/step\n",
      "1/1 [==============================] - 0s 47ms/step\n",
      "1/1 [==============================] - 0s 47ms/step\n",
      "1/1 [==============================] - 0s 47ms/step\n",
      "1/1 [==============================] - 0s 47ms/step\n",
      "1/1 [==============================] - 0s 47ms/step\n",
      "1/1 [==============================] - 0s 32ms/step\n"
     ]
    }
   ],
   "source": [
    "x = np.array(df[-60:-30]).T\n",
    "last_window = x.copy()\n",
    "future_predictions = []  # Store predicted temperatures for the next 24 hours\n",
    "\n",
    "for _ in range(10):\n",
    "    next_prediction = model.predict(last_window.reshape(1, 30, 1))\n",
    "    future_predictions.append(next_prediction[0])\n",
    "    last_window = np.roll(last_window, -1)  # Shift the window by 1 hour\n",
    "    last_window[0,-1] = next_prediction[0]\n"
   ]
  }
 ],
 "metadata": {
  "kernelspec": {
   "display_name": "Python 3 (ipykernel)",
   "language": "python",
   "name": "python3"
  },
  "language_info": {
   "codemirror_mode": {
    "name": "ipython",
    "version": 3
   },
   "file_extension": ".py",
   "mimetype": "text/x-python",
   "name": "python",
   "nbconvert_exporter": "python",
   "pygments_lexer": "ipython3",
   "version": "3.9.7"
  }
 },
 "nbformat": 4,
 "nbformat_minor": 5
}
