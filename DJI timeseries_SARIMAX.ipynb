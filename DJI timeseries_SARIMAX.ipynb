{
 "cells": [
  {
   "cell_type": "markdown",
   "id": "944a76b5",
   "metadata": {},
   "source": [
    "# Loading and Preprocessing Data"
   ]
  },
  {
   "cell_type": "code",
   "execution_count": 1,
   "id": "cf8fa86c",
   "metadata": {},
   "outputs": [],
   "source": [
    "import pandas as pd\n",
    "import numpy as np\n",
    "import matplotlib.pyplot as plt"
   ]
  },
  {
   "cell_type": "code",
   "execution_count": 2,
   "id": "8352e7fc",
   "metadata": {},
   "outputs": [
    {
     "data": {
      "text/html": [
       "<div>\n",
       "<style scoped>\n",
       "    .dataframe tbody tr th:only-of-type {\n",
       "        vertical-align: middle;\n",
       "    }\n",
       "\n",
       "    .dataframe tbody tr th {\n",
       "        vertical-align: top;\n",
       "    }\n",
       "\n",
       "    .dataframe thead th {\n",
       "        text-align: right;\n",
       "    }\n",
       "</style>\n",
       "<table border=\"1\" class=\"dataframe\">\n",
       "  <thead>\n",
       "    <tr style=\"text-align: right;\">\n",
       "      <th></th>\n",
       "      <th>DJIA</th>\n",
       "    </tr>\n",
       "    <tr>\n",
       "      <th>Date</th>\n",
       "      <th></th>\n",
       "    </tr>\n",
       "  </thead>\n",
       "  <tbody>\n",
       "    <tr>\n",
       "      <th>1885-02-16</th>\n",
       "      <td>30.9226</td>\n",
       "    </tr>\n",
       "    <tr>\n",
       "      <th>1885-02-17</th>\n",
       "      <td>31.3365</td>\n",
       "    </tr>\n",
       "    <tr>\n",
       "      <th>1885-02-18</th>\n",
       "      <td>31.4744</td>\n",
       "    </tr>\n",
       "    <tr>\n",
       "      <th>1885-02-19</th>\n",
       "      <td>31.6765</td>\n",
       "    </tr>\n",
       "    <tr>\n",
       "      <th>1885-02-20</th>\n",
       "      <td>31.4252</td>\n",
       "    </tr>\n",
       "    <tr>\n",
       "      <th>...</th>\n",
       "      <td>...</td>\n",
       "    </tr>\n",
       "    <tr>\n",
       "      <th>2024-02-22</th>\n",
       "      <td>39069.1100</td>\n",
       "    </tr>\n",
       "    <tr>\n",
       "      <th>2024-02-23</th>\n",
       "      <td>39131.5300</td>\n",
       "    </tr>\n",
       "    <tr>\n",
       "      <th>2024-02-26</th>\n",
       "      <td>39069.2300</td>\n",
       "    </tr>\n",
       "    <tr>\n",
       "      <th>2024-02-27</th>\n",
       "      <td>38972.4100</td>\n",
       "    </tr>\n",
       "    <tr>\n",
       "      <th>2024-02-28</th>\n",
       "      <td>38949.0200</td>\n",
       "    </tr>\n",
       "  </tbody>\n",
       "</table>\n",
       "<p>37962 rows × 1 columns</p>\n",
       "</div>"
      ],
      "text/plain": [
       "                  DJIA\n",
       "Date                  \n",
       "1885-02-16     30.9226\n",
       "1885-02-17     31.3365\n",
       "1885-02-18     31.4744\n",
       "1885-02-19     31.6765\n",
       "1885-02-20     31.4252\n",
       "...                ...\n",
       "2024-02-22  39069.1100\n",
       "2024-02-23  39131.5300\n",
       "2024-02-26  39069.2300\n",
       "2024-02-27  38972.4100\n",
       "2024-02-28  38949.0200\n",
       "\n",
       "[37962 rows x 1 columns]"
      ]
     },
     "execution_count": 2,
     "metadata": {},
     "output_type": "execute_result"
    }
   ],
   "source": [
    "df = pd.read_csv('DJA.csv')\n",
    "df['Date'] = pd.to_datetime(df['Date'])\n",
    "df.set_index('Date' , inplace=True)\n",
    "df"
   ]
  },
  {
   "cell_type": "code",
   "execution_count": 3,
   "id": "36b79e9c",
   "metadata": {},
   "outputs": [
    {
     "data": {
      "text/plain": [
       "DJIA    0\n",
       "dtype: int64"
      ]
     },
     "execution_count": 3,
     "metadata": {},
     "output_type": "execute_result"
    }
   ],
   "source": [
    "df.isna().sum()"
   ]
  },
  {
   "cell_type": "markdown",
   "id": "b3fc3396",
   "metadata": {},
   "source": [
    "as you see there is no null quantity in our dataset"
   ]
  },
  {
   "cell_type": "code",
   "execution_count": 4,
   "id": "60906e36",
   "metadata": {},
   "outputs": [
    {
     "data": {
      "text/html": [
       "<div>\n",
       "<style scoped>\n",
       "    .dataframe tbody tr th:only-of-type {\n",
       "        vertical-align: middle;\n",
       "    }\n",
       "\n",
       "    .dataframe tbody tr th {\n",
       "        vertical-align: top;\n",
       "    }\n",
       "\n",
       "    .dataframe thead th {\n",
       "        text-align: right;\n",
       "    }\n",
       "</style>\n",
       "<table border=\"1\" class=\"dataframe\">\n",
       "  <thead>\n",
       "    <tr style=\"text-align: right;\">\n",
       "      <th></th>\n",
       "      <th>DJIA</th>\n",
       "    </tr>\n",
       "  </thead>\n",
       "  <tbody>\n",
       "    <tr>\n",
       "      <th>count</th>\n",
       "      <td>37962.000000</td>\n",
       "    </tr>\n",
       "    <tr>\n",
       "      <th>mean</th>\n",
       "      <td>3360.308080</td>\n",
       "    </tr>\n",
       "    <tr>\n",
       "      <th>std</th>\n",
       "      <td>7017.812893</td>\n",
       "    </tr>\n",
       "    <tr>\n",
       "      <th>min</th>\n",
       "      <td>24.360400</td>\n",
       "    </tr>\n",
       "    <tr>\n",
       "      <th>25%</th>\n",
       "      <td>73.199650</td>\n",
       "    </tr>\n",
       "    <tr>\n",
       "      <th>50%</th>\n",
       "      <td>235.345000</td>\n",
       "    </tr>\n",
       "    <tr>\n",
       "      <th>75%</th>\n",
       "      <td>1781.637500</td>\n",
       "    </tr>\n",
       "    <tr>\n",
       "      <th>max</th>\n",
       "      <td>39131.530000</td>\n",
       "    </tr>\n",
       "  </tbody>\n",
       "</table>\n",
       "</div>"
      ],
      "text/plain": [
       "               DJIA\n",
       "count  37962.000000\n",
       "mean    3360.308080\n",
       "std     7017.812893\n",
       "min       24.360400\n",
       "25%       73.199650\n",
       "50%      235.345000\n",
       "75%     1781.637500\n",
       "max    39131.530000"
      ]
     },
     "execution_count": 4,
     "metadata": {},
     "output_type": "execute_result"
    }
   ],
   "source": [
    "df.describe()"
   ]
  },
  {
   "cell_type": "markdown",
   "id": "66d4f666",
   "metadata": {},
   "source": [
    "our data has a big difference between mean and max data and the standard deviation of data in comparison to mean is to high , so we use the logarithm of DJIA index"
   ]
  },
  {
   "cell_type": "code",
   "execution_count": 5,
   "id": "2c0ee892",
   "metadata": {},
   "outputs": [],
   "source": [
    "df['DJIA'] = np.log(df['DJIA'])"
   ]
  },
  {
   "cell_type": "code",
   "execution_count": 9,
   "id": "fdfb45e4",
   "metadata": {},
   "outputs": [],
   "source": [
    "df2 = df.copy()"
   ]
  },
  {
   "cell_type": "code",
   "execution_count": 10,
   "id": "8e25451d",
   "metadata": {},
   "outputs": [],
   "source": [
    "from statsmodels.tsa.stattools import adfuller"
   ]
  },
  {
   "cell_type": "code",
   "execution_count": 11,
   "id": "5d774099",
   "metadata": {},
   "outputs": [
    {
     "name": "stdout",
     "output_type": "stream",
     "text": [
      "(0.9340085413609213, 0.9935184779149431, 43, 37918, {'1%': -3.430522470666896, '5%': -2.861616227957431, '10%': -2.5668105737138274}, -236442.83362386288)\n"
     ]
    }
   ],
   "source": [
    "print(adfuller(df2['DJIA'])) "
   ]
  },
  {
   "cell_type": "markdown",
   "id": "42548cf8",
   "metadata": {},
   "source": [
    "due to the Augmented Dickey Fuller Test, our data is non stationary so we use the difference of a DataFrame element compared with last element in the DataFrame. "
   ]
  },
  {
   "cell_type": "code",
   "execution_count": 12,
   "id": "eec0a99e",
   "metadata": {},
   "outputs": [],
   "source": [
    "df2['DJIA'] = df2['DJIA'].diff()\n",
    "df2 = df2.fillna(method='bfill')"
   ]
  },
  {
   "cell_type": "code",
   "execution_count": 13,
   "id": "65a6d3ae",
   "metadata": {},
   "outputs": [
    {
     "name": "stdout",
     "output_type": "stream",
     "text": [
      "(-29.547104066686366, 0.0, 42, 37919, {'1%': -3.430522466118191, '5%': -2.861616225947069, '10%': -2.566810572643766}, -236443.95136051578)\n"
     ]
    }
   ],
   "source": [
    "print(adfuller(df2['DJIA'])) "
   ]
  },
  {
   "cell_type": "markdown",
   "id": "12159c5b",
   "metadata": {},
   "source": [
    "After using the diff method and calculating the Augmented Dickey Fuller Test,now our data is stationary so I=1 is good for Integrated Component (I) of SARIMAX.\n"
   ]
  },
  {
   "cell_type": "markdown",
   "id": "05804072",
   "metadata": {},
   "source": [
    "# holdout splitting"
   ]
  },
  {
   "cell_type": "code",
   "execution_count": 14,
   "id": "16ebdc0d",
   "metadata": {},
   "outputs": [],
   "source": [
    "from sklearn.model_selection import train_test_split\n",
    "from sklearn.metrics import mean_absolute_percentage_error , r2_score"
   ]
  },
  {
   "cell_type": "code",
   "execution_count": 15,
   "id": "6faf73cd",
   "metadata": {},
   "outputs": [
    {
     "name": "stdout",
     "output_type": "stream",
     "text": [
      "Train shape: (37924, 1)  \n",
      "Test Shape: (38, 1)\n"
     ]
    }
   ],
   "source": [
    "X_train, X_test = train_test_split(df, shuffle=False, test_size=.001 )\n",
    "print(f'Train shape: {X_train.shape}  \\nTest Shape: {X_test.shape}')"
   ]
  },
  {
   "cell_type": "markdown",
   "id": "90cf4c1b",
   "metadata": {},
   "source": [
    "# SARIMAX Model"
   ]
  },
  {
   "cell_type": "code",
   "execution_count": 20,
   "id": "83ca1dc7",
   "metadata": {},
   "outputs": [],
   "source": [
    "from statsmodels.tsa.statespace.sarimax import SARIMAX"
   ]
  },
  {
   "cell_type": "code",
   "execution_count": 21,
   "id": "5f40cc15",
   "metadata": {},
   "outputs": [
    {
     "name": "stderr",
     "output_type": "stream",
     "text": [
      "C:\\Users\\DearUser\\anaconda3\\lib\\site-packages\\statsmodels\\tsa\\base\\tsa_model.py:593: ValueWarning: A date index has been provided, but it has no associated frequency information and so will be ignored when e.g. forecasting.\n",
      "  warnings.warn('A date index has been provided, but it has no'\n",
      "C:\\Users\\DearUser\\anaconda3\\lib\\site-packages\\statsmodels\\tsa\\base\\tsa_model.py:593: ValueWarning: A date index has been provided, but it has no associated frequency information and so will be ignored when e.g. forecasting.\n",
      "  warnings.warn('A date index has been provided, but it has no'\n"
     ]
    }
   ],
   "source": [
    "model = SARIMAX(X_train['DJIA'], order=(3, 1, 3), seasonal_order=(3, 1, 3, 4))"
   ]
  },
  {
   "cell_type": "code",
   "execution_count": 22,
   "id": "a49800da",
   "metadata": {
    "scrolled": true
   },
   "outputs": [
    {
     "name": "stderr",
     "output_type": "stream",
     "text": [
      "C:\\Users\\DearUser\\anaconda3\\lib\\site-packages\\statsmodels\\base\\model.py:604: ConvergenceWarning: Maximum Likelihood optimization failed to converge. Check mle_retvals\n",
      "  warnings.warn(\"Maximum Likelihood optimization failed to \"\n"
     ]
    }
   ],
   "source": [
    "res = model.fit()"
   ]
  },
  {
   "cell_type": "code",
   "execution_count": 23,
   "id": "23fd0e77",
   "metadata": {},
   "outputs": [
    {
     "data": {
      "text/html": [
       "<table class=\"simpletable\">\n",
       "<caption>SARIMAX Results</caption>\n",
       "<tr>\n",
       "  <th>Dep. Variable:</th>               <td>DJIA</td>              <th>  No. Observations:  </th>    <td>37924</td>   \n",
       "</tr>\n",
       "<tr>\n",
       "  <th>Model:</th>           <td>SARIMAX(3, 1, 3)x(3, 1, 3, 4)</td> <th>  Log Likelihood     </th> <td>118067.267</td> \n",
       "</tr>\n",
       "<tr>\n",
       "  <th>Date:</th>                  <td>Sun, 03 Mar 2024</td>        <th>  AIC                </th> <td>-236108.534</td>\n",
       "</tr>\n",
       "<tr>\n",
       "  <th>Time:</th>                      <td>21:44:45</td>            <th>  BIC                </th> <td>-235997.473</td>\n",
       "</tr>\n",
       "<tr>\n",
       "  <th>Sample:</th>                        <td>0</td>               <th>  HQIC               </th> <td>-236073.292</td>\n",
       "</tr>\n",
       "<tr>\n",
       "  <th></th>                           <td> - 37924</td>            <th>                     </th>      <td> </td>     \n",
       "</tr>\n",
       "<tr>\n",
       "  <th>Covariance Type:</th>              <td>opg</td>              <th>                     </th>      <td> </td>     \n",
       "</tr>\n",
       "</table>\n",
       "<table class=\"simpletable\">\n",
       "<tr>\n",
       "      <td></td>        <th>coef</th>     <th>std err</th>      <th>z</th>      <th>P>|z|</th>  <th>[0.025</th>    <th>0.975]</th>  \n",
       "</tr>\n",
       "<tr>\n",
       "  <th>ar.L1</th>    <td>   -0.0165</td> <td>    1.791</td> <td>   -0.009</td> <td> 0.993</td> <td>   -3.528</td> <td>    3.495</td>\n",
       "</tr>\n",
       "<tr>\n",
       "  <th>ar.L2</th>    <td>    0.0632</td> <td>    0.076</td> <td>    0.837</td> <td> 0.403</td> <td>   -0.085</td> <td>    0.211</td>\n",
       "</tr>\n",
       "<tr>\n",
       "  <th>ar.L3</th>    <td>    0.0376</td> <td>    0.219</td> <td>    0.172</td> <td> 0.864</td> <td>   -0.392</td> <td>    0.467</td>\n",
       "</tr>\n",
       "<tr>\n",
       "  <th>ma.L1</th>    <td>    0.0345</td> <td>    1.791</td> <td>    0.019</td> <td> 0.985</td> <td>   -3.476</td> <td>    3.545</td>\n",
       "</tr>\n",
       "<tr>\n",
       "  <th>ma.L2</th>    <td>   -0.0683</td> <td>    0.093</td> <td>   -0.732</td> <td> 0.464</td> <td>   -0.251</td> <td>    0.115</td>\n",
       "</tr>\n",
       "<tr>\n",
       "  <th>ma.L3</th>    <td>   -0.0055</td> <td>    0.228</td> <td>   -0.024</td> <td> 0.981</td> <td>   -0.452</td> <td>    0.441</td>\n",
       "</tr>\n",
       "<tr>\n",
       "  <th>ar.S.L4</th>  <td>   -1.2755</td> <td>    0.063</td> <td>  -20.226</td> <td> 0.000</td> <td>   -1.399</td> <td>   -1.152</td>\n",
       "</tr>\n",
       "<tr>\n",
       "  <th>ar.S.L8</th>  <td>   -0.8020</td> <td>    0.074</td> <td>  -10.770</td> <td> 0.000</td> <td>   -0.948</td> <td>   -0.656</td>\n",
       "</tr>\n",
       "<tr>\n",
       "  <th>ar.S.L12</th> <td>    0.0182</td> <td>    0.046</td> <td>    0.398</td> <td> 0.691</td> <td>   -0.071</td> <td>    0.108</td>\n",
       "</tr>\n",
       "<tr>\n",
       "  <th>ma.S.L4</th>  <td>    0.3244</td> <td>    0.019</td> <td>   16.928</td> <td> 0.000</td> <td>    0.287</td> <td>    0.362</td>\n",
       "</tr>\n",
       "<tr>\n",
       "  <th>ma.S.L8</th>  <td>   -0.4540</td> <td>    0.013</td> <td>  -35.064</td> <td> 0.000</td> <td>   -0.479</td> <td>   -0.429</td>\n",
       "</tr>\n",
       "<tr>\n",
       "  <th>ma.S.L12</th> <td>   -0.8538</td> <td>    0.018</td> <td>  -46.213</td> <td> 0.000</td> <td>   -0.890</td> <td>   -0.818</td>\n",
       "</tr>\n",
       "<tr>\n",
       "  <th>sigma2</th>   <td>    0.0001</td> <td> 2.57e-07</td> <td>  448.006</td> <td> 0.000</td> <td>    0.000</td> <td>    0.000</td>\n",
       "</tr>\n",
       "</table>\n",
       "<table class=\"simpletable\">\n",
       "<tr>\n",
       "  <th>Ljung-Box (L1) (Q):</th>     <td>2.41</td> <th>  Jarque-Bera (JB):  </th> <td>671217.16</td>\n",
       "</tr>\n",
       "<tr>\n",
       "  <th>Prob(Q):</th>                <td>0.12</td> <th>  Prob(JB):          </th>   <td>0.00</td>   \n",
       "</tr>\n",
       "<tr>\n",
       "  <th>Heteroskedasticity (H):</th> <td>1.31</td> <th>  Skew:              </th>   <td>-0.43</td>  \n",
       "</tr>\n",
       "<tr>\n",
       "  <th>Prob(H) (two-sided):</th>    <td>0.00</td> <th>  Kurtosis:          </th>   <td>23.59</td>  \n",
       "</tr>\n",
       "</table><br/><br/>Warnings:<br/>[1] Covariance matrix calculated using the outer product of gradients (complex-step)."
      ],
      "text/plain": [
       "<class 'statsmodels.iolib.summary.Summary'>\n",
       "\"\"\"\n",
       "                                     SARIMAX Results                                     \n",
       "=========================================================================================\n",
       "Dep. Variable:                              DJIA   No. Observations:                37924\n",
       "Model:             SARIMAX(3, 1, 3)x(3, 1, 3, 4)   Log Likelihood              118067.267\n",
       "Date:                           Sun, 03 Mar 2024   AIC                        -236108.534\n",
       "Time:                                   21:44:45   BIC                        -235997.473\n",
       "Sample:                                        0   HQIC                       -236073.292\n",
       "                                         - 37924                                         \n",
       "Covariance Type:                             opg                                         \n",
       "==============================================================================\n",
       "                 coef    std err          z      P>|z|      [0.025      0.975]\n",
       "------------------------------------------------------------------------------\n",
       "ar.L1         -0.0165      1.791     -0.009      0.993      -3.528       3.495\n",
       "ar.L2          0.0632      0.076      0.837      0.403      -0.085       0.211\n",
       "ar.L3          0.0376      0.219      0.172      0.864      -0.392       0.467\n",
       "ma.L1          0.0345      1.791      0.019      0.985      -3.476       3.545\n",
       "ma.L2         -0.0683      0.093     -0.732      0.464      -0.251       0.115\n",
       "ma.L3         -0.0055      0.228     -0.024      0.981      -0.452       0.441\n",
       "ar.S.L4       -1.2755      0.063    -20.226      0.000      -1.399      -1.152\n",
       "ar.S.L8       -0.8020      0.074    -10.770      0.000      -0.948      -0.656\n",
       "ar.S.L12       0.0182      0.046      0.398      0.691      -0.071       0.108\n",
       "ma.S.L4        0.3244      0.019     16.928      0.000       0.287       0.362\n",
       "ma.S.L8       -0.4540      0.013    -35.064      0.000      -0.479      -0.429\n",
       "ma.S.L12      -0.8538      0.018    -46.213      0.000      -0.890      -0.818\n",
       "sigma2         0.0001   2.57e-07    448.006      0.000       0.000       0.000\n",
       "===================================================================================\n",
       "Ljung-Box (L1) (Q):                   2.41   Jarque-Bera (JB):            671217.16\n",
       "Prob(Q):                              0.12   Prob(JB):                         0.00\n",
       "Heteroskedasticity (H):               1.31   Skew:                            -0.43\n",
       "Prob(H) (two-sided):                  0.00   Kurtosis:                        23.59\n",
       "===================================================================================\n",
       "\n",
       "Warnings:\n",
       "[1] Covariance matrix calculated using the outer product of gradients (complex-step).\n",
       "\"\"\""
      ]
     },
     "execution_count": 23,
     "metadata": {},
     "output_type": "execute_result"
    }
   ],
   "source": [
    "res.summary()"
   ]
  },
  {
   "cell_type": "code",
   "execution_count": 24,
   "id": "653ede5f",
   "metadata": {},
   "outputs": [],
   "source": [
    "df['sarimax'] = res.fittedvalues"
   ]
  },
  {
   "cell_type": "code",
   "execution_count": 42,
   "id": "e39f3db8",
   "metadata": {
    "scrolled": true
   },
   "outputs": [
    {
     "name": "stderr",
     "output_type": "stream",
     "text": [
      "C:\\Users\\DearUser\\anaconda3\\lib\\site-packages\\statsmodels\\tsa\\base\\tsa_model.py:390: ValueWarning: No supported index is available. Prediction results will be given with an integer index beginning at `start`.\n",
      "  warnings.warn('No supported index is available.'\n"
     ]
    }
   ],
   "source": [
    "forecast = res.predict(start=len(X_train), end=len(df) )"
   ]
  },
  {
   "cell_type": "code",
   "execution_count": 46,
   "id": "f3d51160",
   "metadata": {},
   "outputs": [],
   "source": [
    "df['sarimax'].iloc[37923:] = forecast "
   ]
  },
  {
   "cell_type": "code",
   "execution_count": 62,
   "id": "fa281c7a",
   "metadata": {
    "scrolled": true
   },
   "outputs": [
    {
     "name": "stdout",
     "output_type": "stream",
     "text": [
      "MAPE_train:  0.0013627985221407691\n",
      "R2_train:  0.9998819800748594\n",
      "MAPE_test:  0.0015447016100747864\n",
      "R2_test:  -0.7725710500582428\n"
     ]
    }
   ],
   "source": [
    "y_true_train = df['DJIA'][:37923]\n",
    "y_true_test = df['DJIA'][37923:]\n",
    "y_pred_train = df['sarimax'][:37923]\n",
    "y_pred_test= df['sarimax'][37923:]\n",
    "\n",
    "print( 'MAPE_train: ' ,mean_absolute_percentage_error(y_true_train,y_pred_train) )\n",
    "print( 'R2_train: ' ,r2_score(y_true_train,y_pred_train) )\n",
    "print( 'MAPE_test: ', mean_absolute_percentage_error(y_true_test,y_pred_test) )\n",
    "print( 'R2_test: ' ,r2_score(y_true_test,y_pred_test) )"
   ]
  },
  {
   "cell_type": "code",
   "execution_count": 51,
   "id": "0a966d4f",
   "metadata": {},
   "outputs": [
    {
     "data": {
      "image/png": "[encoded data removed]",
      "text/plain": [
       "<Figure size 1440x864 with 1 Axes>"
      ]
     },
     "metadata": {
      "needs_background": "light"
     },
     "output_type": "display_data"
    }
   ],
   "source": [
    "plt.figure(figsize=(20, 12))\n",
    "plt.plot(df['DJIA'][37923:])\n",
    "plt.plot(df['sarimax'][37923:])\n",
    "plt.show()"
   ]
  }
 ],
 "metadata": {
  "kernelspec": {
   "display_name": "Python 3 (ipykernel)",
   "language": "python",
   "name": "python3"
  },
  "language_info": {
   "codemirror_mode": {
    "name": "ipython",
    "version": 3
   },
   "file_extension": ".py",
   "mimetype": "text/x-python",
   "name": "python",
   "nbconvert_exporter": "python",
   "pygments_lexer": "ipython3",
   "version": "3.9.7"
  }
 },
 "nbformat": 4,
 "nbformat_minor": 5
}
